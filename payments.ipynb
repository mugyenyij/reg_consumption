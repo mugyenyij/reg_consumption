{
 "cells": [
  {
   "cell_type": "code",
   "execution_count": 1,
   "metadata": {},
   "outputs": [],
   "source": [
    "import datetime\n",
    "import pandas as pd\n",
    "import numpy as np\n",
    "import matplotlib.pyplot as plt\n",
    "import matplotlib.ticker as tck\n",
    "import seaborn as sns"
   ]
  },
  {
   "cell_type": "code",
   "execution_count": 3,
   "metadata": {},
   "outputs": [
    {
     "data": {
      "text/html": [
       "<div>\n",
       "<style scoped>\n",
       "    .dataframe tbody tr th:only-of-type {\n",
       "        vertical-align: middle;\n",
       "    }\n",
       "\n",
       "    .dataframe tbody tr th {\n",
       "        vertical-align: top;\n",
       "    }\n",
       "\n",
       "    .dataframe thead th {\n",
       "        text-align: right;\n",
       "    }\n",
       "</style>\n",
       "<table border=\"1\" class=\"dataframe\">\n",
       "  <thead>\n",
       "    <tr style=\"text-align: right;\">\n",
       "      <th></th>\n",
       "      <th>meter_serial_number_consumer_id</th>\n",
       "      <th>meter_serial_number</th>\n",
       "      <th>consumer_id</th>\n",
       "      <th>month</th>\n",
       "      <th>year</th>\n",
       "      <th>amounts</th>\n",
       "    </tr>\n",
       "  </thead>\n",
       "  <tbody>\n",
       "    <tr>\n",
       "      <th>0</th>\n",
       "      <td>4226691618_20130515 102321.279 0002030 2194</td>\n",
       "      <td>4226691618</td>\n",
       "      <td>20130515 102321.279 0002030 2194</td>\n",
       "      <td>1</td>\n",
       "      <td>2014</td>\n",
       "      <td>706.166667</td>\n",
       "    </tr>\n",
       "    <tr>\n",
       "      <th>1</th>\n",
       "      <td>4226691618_20130515 102321.279 0002030 2194</td>\n",
       "      <td>4226691618</td>\n",
       "      <td>20130515 102321.279 0002030 2194</td>\n",
       "      <td>1</td>\n",
       "      <td>2015</td>\n",
       "      <td>1821.733333</td>\n",
       "    </tr>\n",
       "    <tr>\n",
       "      <th>2</th>\n",
       "      <td>4226691618_20130515 102321.279 0002030 2194</td>\n",
       "      <td>4226691618</td>\n",
       "      <td>20130515 102321.279 0002030 2194</td>\n",
       "      <td>1</td>\n",
       "      <td>2016</td>\n",
       "      <td>564.000000</td>\n",
       "    </tr>\n",
       "    <tr>\n",
       "      <th>3</th>\n",
       "      <td>4226691618_20130515 102321.279 0002030 2194</td>\n",
       "      <td>4226691618</td>\n",
       "      <td>20130515 102321.279 0002030 2194</td>\n",
       "      <td>1</td>\n",
       "      <td>2017</td>\n",
       "      <td>1150.388889</td>\n",
       "    </tr>\n",
       "    <tr>\n",
       "      <th>4</th>\n",
       "      <td>4226691618_20130515 102321.279 0002030 2194</td>\n",
       "      <td>4226691618</td>\n",
       "      <td>20130515 102321.279 0002030 2194</td>\n",
       "      <td>1</td>\n",
       "      <td>2018</td>\n",
       "      <td>1267.500000</td>\n",
       "    </tr>\n",
       "  </tbody>\n",
       "</table>\n",
       "</div>"
      ],
      "text/plain": [
       "               meter_serial_number_consumer_id  meter_serial_number  \\\n",
       "0  4226691618_20130515 102321.279 0002030 2194           4226691618   \n",
       "1  4226691618_20130515 102321.279 0002030 2194           4226691618   \n",
       "2  4226691618_20130515 102321.279 0002030 2194           4226691618   \n",
       "3  4226691618_20130515 102321.279 0002030 2194           4226691618   \n",
       "4  4226691618_20130515 102321.279 0002030 2194           4226691618   \n",
       "\n",
       "                        consumer_id  month  year      amounts  \n",
       "0  20130515 102321.279 0002030 2194      1  2014   706.166667  \n",
       "1  20130515 102321.279 0002030 2194      1  2015  1821.733333  \n",
       "2  20130515 102321.279 0002030 2194      1  2016   564.000000  \n",
       "3  20130515 102321.279 0002030 2194      1  2017  1150.388889  \n",
       "4  20130515 102321.279 0002030 2194      1  2018  1267.500000  "
      ]
     },
     "execution_count": 3,
     "metadata": {},
     "output_type": "execute_result"
    }
   ],
   "source": [
    "payts_datafile = '/mnt/nfs/work1/jtaneja/jmugyenyi/REG_consumption_data/smoothed_payments_06142021.pck'\n",
    "df = pd.read_pickle(payts_datafile)\n",
    "df.head()"
   ]
  },
  {
   "cell_type": "code",
   "execution_count": 4,
   "metadata": {},
   "outputs": [
    {
     "data": {
      "text/plain": [
       "32669139"
      ]
     },
     "execution_count": 4,
     "metadata": {},
     "output_type": "execute_result"
    }
   ],
   "source": [
    "len(df)"
   ]
  },
  {
   "cell_type": "code",
   "execution_count": 5,
   "metadata": {},
   "outputs": [
    {
     "data": {
      "text/plain": [
       "32670278"
      ]
     },
     "execution_count": 5,
     "metadata": {},
     "output_type": "execute_result"
    }
   ],
   "source": [
    "consumption_datafile = '/mnt/nfs/work1/jtaneja/jmugyenyi/REG_consumption_data/smoothed_folder/merged_smoothed_monthly_by_meternumber_consumerid_march032021.pck'\n",
    "df1 = pd.read_pickle(consumption_datafile)\n",
    "len(df1)"
   ]
  },
  {
   "cell_type": "code",
   "execution_count": 6,
   "metadata": {},
   "outputs": [],
   "source": [
    "df['trans_period'] = pd.to_datetime(df[['year','month']].assign(day= lambda x: x['month'].apply(\n",
    "    lambda y: 31 if y in    [1,3,5,7,8,10,12] else (30 if y in [4,6,9,11] else (28 if y==2 else np.nan)))))\n",
    "meta_datafile = '/mnt/nfs/work1/jtaneja/jmugyenyi/REG_consumption_data/metadata_folder/REG_metadata_March_3_2021.pck'\n",
    "meta_df = pd.read_pickle(meta_datafile)\n",
    "meta_df['meter_serial_number_consumer_id'] = meta_df['meter_serial_number'].astype(str) +'_'+ meta_df['consumer_id']\n",
    "meta_df['installation_year'] = meta_df.installation_date.dt.year\n",
    "b = ['10. Residential', '2. T1 Tx FC1 AR STS']\n",
    "res_meta = meta_df[meta_df.vending_category_name.apply(lambda y: any(x in b for x in y))]"
   ]
  },
  {
   "cell_type": "code",
   "execution_count": null,
   "metadata": {},
   "outputs": [],
   "source": [
    "%%time\n",
    "## quartiles for low consumption\n",
    "\n",
    "# lists\n",
    "quartiles = [0.25, 0.50, 0.75]          # inter-quartile range\n",
    "lower_quat_cons_list=[]                 # lower quartile kWhs\n",
    "median_cons_list=[]                     # median kWhs\n",
    "upper_quat_cons_list=[]                 # upper quartile kWhs\n",
    "customers_per_conn_year =[]             # number of customers per installation year\n",
    "customer_per_month_per_conn_year = {}   # number of customers per installation year per transaction month\n",
    "years_list = [2010,2011,2012,\n",
    "              2013,2014,2015,2016,2017] # installation years\n",
    "\n",
    "\n",
    "for year in years_list:\n",
    "    if year==2010:\n",
    "        meta_year_filter = res_meta[res_meta.installation_year <= 2010] # filter installation years b4 and equal to 2010\n",
    "    else:\n",
    "        meta_year_filter = res_meta[res_meta.installation_year == year] # filter based off installation year\n",
    "        \n",
    "    df_by_year = df[df.meter_serial_number_consumer_id.isin(\n",
    "        meta_year_filter.meter_serial_number_consumer_id)] # create subset dataframe with single year of installation\n",
    "    \n",
    "    x = df_by_year.groupby(['meter_serial_number_consumer_id','year']\n",
    "                          ).mean()['kWhs'].reset_index() # compute average consumption per year\n",
    "    if year <=2013:\n",
    "        # average consumption in initial years of connection\n",
    "        low_consumers = x[(x.year==2013) & (x.kWhs <10)].meter_serial_number_consumer_id.unique().tolist()\n",
    "    else:  \n",
    "        # average consumption in initial years of connection\n",
    "        low_consumers = x[(x.year==year) & (x.kWhs <10)].meter_serial_number_consumer_id.unique().tolist()\n",
    "        \n",
    "    # create subset of low consumption customers\n",
    "    low_df_by_year = df_by_year[df_by_year.meter_serial_number_consumer_id.isin(low_consumers)]\n",
    "    \n",
    "    # count number of low consumers per transaction period(monthly)\n",
    "    customer_per_month_per_conn_year[year] = low_df_by_year.groupby(\n",
    "        ['trans_period'])['meter_serial_number_consumer_id'].count()\n",
    "    \n",
    "    quartile_cons = low_df_by_year.groupby(['trans_period']).quantile([0.25,0.5,0.75])['kWhs']\n",
    "    temp = quartile_cons.reset_index().rename(columns={'level_1':'quartiles'})\n",
    "    temp.loc[ (temp.trans_period > '2012-07-01') & (temp.trans_period <= '2015-08-31'), 'tariff'] = 134\n",
    "    temp.loc[ (temp.trans_period > '2015-08-31') & (temp.trans_period <= '2016-12-31'), 'tariff'] = 182\n",
    "    temp.loc[ (temp.trans_period > '2016-12-31'), 'tariff'] = 89\n",
    "    temp['payment'] = temp['kWhs'] * temp['tariff']\n",
    "    \n",
    "    \n",
    "    for quart in quartiles:\n",
    "        tmp = temp[temp.quartiles==quart]\n",
    "        tmp = tmp.set_index(['trans_period'])\n",
    "        tmp = tmp.drop(['quartiles'],axis=1)\n",
    "        \n",
    "        if quart==0.25:\n",
    "            lower_quat_cons_list.append(tmp)\n",
    "        elif quart==0.50:\n",
    "            median_cons_list.append(tmp)\n",
    "        elif quart==0.75:\n",
    "            upper_quat_cons_list.append(tmp)\n",
    "    \n",
    "    cust_count = low_df_by_year.meter_serial_number_consumer_id.nunique()\n",
    "    if year==2010:\n",
    "        customers_per_conn_year.append(f\"{year} & before : {cust_count} customers\")\n",
    "    else:\n",
    "        customers_per_conn_year.append(f\"{year} : {cust_count} customers\")\n",
    "#     break\n"
   ]
  },
  {
   "cell_type": "code",
   "execution_count": null,
   "metadata": {},
   "outputs": [],
   "source": [
    "1\n"
   ]
  },
  {
   "cell_type": "code",
   "execution_count": null,
   "metadata": {},
   "outputs": [],
   "source": []
  }
 ],
 "metadata": {
  "kernelspec": {
   "display_name": "Python 3",
   "language": "python",
   "name": "python3"
  },
  "language_info": {
   "codemirror_mode": {
    "name": "ipython",
    "version": 3
   },
   "file_extension": ".py",
   "mimetype": "text/x-python",
   "name": "python",
   "nbconvert_exporter": "python",
   "pygments_lexer": "ipython3",
   "version": "3.7.4"
  }
 },
 "nbformat": 4,
 "nbformat_minor": 4
}
