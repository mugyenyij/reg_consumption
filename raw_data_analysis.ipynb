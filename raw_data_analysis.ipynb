{
 "cells": [
  {
   "cell_type": "code",
   "execution_count": 2,
   "metadata": {},
   "outputs": [],
   "source": [
    "import pandas as pd"
   ]
  },
  {
   "cell_type": "code",
   "execution_count": 2,
   "metadata": {},
   "outputs": [
    {
     "name": "stdout",
     "output_type": "stream",
     "text": [
      "CPU times: user 1min 5s, sys: 47.9 s, total: 1min 53s\n",
      "Wall time: 2min 3s\n"
     ]
    }
   ],
   "source": [
    "%%time\n",
    "df = pd.read_pickle('/mnt/nfs/work1/jtaneja/jmugyenyi/REG_consumption_data/files_from_bob/REG_transaction_amount_data.pck')"
   ]
  },
  {
   "cell_type": "code",
   "execution_count": 3,
   "metadata": {},
   "outputs": [
    {
     "data": {
      "text/html": [
       "<div>\n",
       "<style scoped>\n",
       "    .dataframe tbody tr th:only-of-type {\n",
       "        vertical-align: middle;\n",
       "    }\n",
       "\n",
       "    .dataframe tbody tr th {\n",
       "        vertical-align: top;\n",
       "    }\n",
       "\n",
       "    .dataframe thead th {\n",
       "        text-align: right;\n",
       "    }\n",
       "</style>\n",
       "<table border=\"1\" class=\"dataframe\">\n",
       "  <thead>\n",
       "    <tr style=\"text-align: right;\">\n",
       "      <th></th>\n",
       "      <th>consumer_id</th>\n",
       "      <th>meter_serial_number</th>\n",
       "      <th>transaction_date</th>\n",
       "      <th>block_amount</th>\n",
       "      <th>amount</th>\n",
       "      <th>tariff_name</th>\n",
       "    </tr>\n",
       "  </thead>\n",
       "  <tbody>\n",
       "    <tr>\n",
       "      <th>0</th>\n",
       "      <td>170567</td>\n",
       "      <td>7074501490</td>\n",
       "      <td>2017-06-05 19:50:57.083000000</td>\n",
       "      <td>182.0</td>\n",
       "      <td>85.0</td>\n",
       "      <td>Residential</td>\n",
       "    </tr>\n",
       "    <tr>\n",
       "      <th>1</th>\n",
       "      <td>170567</td>\n",
       "      <td>7074501490</td>\n",
       "      <td>2017-06-06 05:48:45.640000000</td>\n",
       "      <td>182.0</td>\n",
       "      <td>85.0</td>\n",
       "      <td>Residential</td>\n",
       "    </tr>\n",
       "    <tr>\n",
       "      <th>2</th>\n",
       "      <td>170567</td>\n",
       "      <td>7074501490</td>\n",
       "      <td>2017-07-04 10:48:34.670000000</td>\n",
       "      <td>182.0</td>\n",
       "      <td>85.0</td>\n",
       "      <td>Residential</td>\n",
       "    </tr>\n",
       "    <tr>\n",
       "      <th>3</th>\n",
       "      <td>170567</td>\n",
       "      <td>7074501490</td>\n",
       "      <td>2017-07-06 19:26:13.043000000</td>\n",
       "      <td>182.0</td>\n",
       "      <td>85.0</td>\n",
       "      <td>Residential</td>\n",
       "    </tr>\n",
       "    <tr>\n",
       "      <th>4</th>\n",
       "      <td>170567</td>\n",
       "      <td>7074501490</td>\n",
       "      <td>2017-08-03 19:58:10.777000000</td>\n",
       "      <td>182.0</td>\n",
       "      <td>85.0</td>\n",
       "      <td>Residential</td>\n",
       "    </tr>\n",
       "  </tbody>\n",
       "</table>\n",
       "</div>"
      ],
      "text/plain": [
       "  consumer_id  meter_serial_number               transaction_date  \\\n",
       "0      170567           7074501490  2017-06-05 19:50:57.083000000   \n",
       "1      170567           7074501490  2017-06-06 05:48:45.640000000   \n",
       "2      170567           7074501490  2017-07-04 10:48:34.670000000   \n",
       "3      170567           7074501490  2017-07-06 19:26:13.043000000   \n",
       "4      170567           7074501490  2017-08-03 19:58:10.777000000   \n",
       "\n",
       "   block_amount  amount  tariff_name  \n",
       "0         182.0    85.0  Residential  \n",
       "1         182.0    85.0  Residential  \n",
       "2         182.0    85.0  Residential  \n",
       "3         182.0    85.0  Residential  \n",
       "4         182.0    85.0  Residential  "
      ]
     },
     "execution_count": 3,
     "metadata": {},
     "output_type": "execute_result"
    }
   ],
   "source": [
    "df.head()"
   ]
  },
  {
   "cell_type": "code",
   "execution_count": 4,
   "metadata": {},
   "outputs": [
    {
     "data": {
      "text/plain": [
       "array(['Residential', 'Regulatory_Fee', 'Rura_fee', 'Electricity',\n",
       "       'Electricity- index-1', 'Residential_Seq', 'TVA tax',\n",
       "       'Non Residential', 'Non residential_seq', 'Health Facilities_Seq',\n",
       "       'Health Facilities', 'Hotels_Seq', 'Hotels',\n",
       "       'Small Industries_Seq', 'Small Industries', 'MV-Line', 'Specific',\n",
       "       'Broadcasters_Seq', 'Broadcasters', 'WTP and WPS _Seq',\n",
       "       'WTP and WPS', 'Medium Industries_Seq', 'Medium Industries',\n",
       "       'Telecom Towers'], dtype=object)"
      ]
     },
     "execution_count": 4,
     "metadata": {},
     "output_type": "execute_result"
    }
   ],
   "source": [
    "df.tariff_name.unique()"
   ]
  },
  {
   "cell_type": "code",
   "execution_count": 4,
   "metadata": {},
   "outputs": [
    {
     "name": "stdout",
     "output_type": "stream",
     "text": [
      "CPU times: user 51.2 s, sys: 22.7 s, total: 1min 13s\n",
      "Wall time: 1min 13s\n"
     ]
    }
   ],
   "source": [
    "%%time\n",
    "df_kWh = df[~(df.tariff_name.isin(['TVA tax','Regulatory_Fee','Rura_fee']))].copy()"
   ]
  },
  {
   "cell_type": "code",
   "execution_count": 5,
   "metadata": {},
   "outputs": [
    {
     "name": "stdout",
     "output_type": "stream",
     "text": [
      "CPU times: user 2min 19s, sys: 23.4 s, total: 2min 42s\n",
      "Wall time: 2min 42s\n"
     ]
    }
   ],
   "source": [
    "%%time\n",
    "df_kWh['meter_serial_number_consumer_id'] = df_kWh['meter_serial_number'].astype(str) +'_'+ df_kWh['consumer_id'].astype(str)"
   ]
  },
  {
   "cell_type": "code",
   "execution_count": 6,
   "metadata": {},
   "outputs": [],
   "source": [
    "df_kWh['meter_serial_number_consumer_id'] = df_kWh['meter_serial_number_consumer_id'].str.strip()"
   ]
  },
  {
   "cell_type": "code",
   "execution_count": 7,
   "metadata": {},
   "outputs": [
    {
     "data": {
      "text/html": [
       "<div>\n",
       "<style scoped>\n",
       "    .dataframe tbody tr th:only-of-type {\n",
       "        vertical-align: middle;\n",
       "    }\n",
       "\n",
       "    .dataframe tbody tr th {\n",
       "        vertical-align: top;\n",
       "    }\n",
       "\n",
       "    .dataframe thead th {\n",
       "        text-align: right;\n",
       "    }\n",
       "</style>\n",
       "<table border=\"1\" class=\"dataframe\">\n",
       "  <thead>\n",
       "    <tr style=\"text-align: right;\">\n",
       "      <th></th>\n",
       "      <th>consumer_id</th>\n",
       "      <th>meter_serial_number</th>\n",
       "      <th>transaction_date</th>\n",
       "      <th>block_amount</th>\n",
       "      <th>amount</th>\n",
       "      <th>tariff_name</th>\n",
       "      <th>meter_serial_number_consumer_id</th>\n",
       "    </tr>\n",
       "  </thead>\n",
       "  <tbody>\n",
       "    <tr>\n",
       "      <th>0</th>\n",
       "      <td>170567</td>\n",
       "      <td>7074501490</td>\n",
       "      <td>2017-06-05 19:50:57.083000000</td>\n",
       "      <td>182.0</td>\n",
       "      <td>85.0</td>\n",
       "      <td>Residential</td>\n",
       "      <td>7074501490_170567</td>\n",
       "    </tr>\n",
       "    <tr>\n",
       "      <th>1</th>\n",
       "      <td>170567</td>\n",
       "      <td>7074501490</td>\n",
       "      <td>2017-06-06 05:48:45.640000000</td>\n",
       "      <td>182.0</td>\n",
       "      <td>85.0</td>\n",
       "      <td>Residential</td>\n",
       "      <td>7074501490_170567</td>\n",
       "    </tr>\n",
       "    <tr>\n",
       "      <th>2</th>\n",
       "      <td>170567</td>\n",
       "      <td>7074501490</td>\n",
       "      <td>2017-07-04 10:48:34.670000000</td>\n",
       "      <td>182.0</td>\n",
       "      <td>85.0</td>\n",
       "      <td>Residential</td>\n",
       "      <td>7074501490_170567</td>\n",
       "    </tr>\n",
       "    <tr>\n",
       "      <th>3</th>\n",
       "      <td>170567</td>\n",
       "      <td>7074501490</td>\n",
       "      <td>2017-07-06 19:26:13.043000000</td>\n",
       "      <td>182.0</td>\n",
       "      <td>85.0</td>\n",
       "      <td>Residential</td>\n",
       "      <td>7074501490_170567</td>\n",
       "    </tr>\n",
       "    <tr>\n",
       "      <th>4</th>\n",
       "      <td>170567</td>\n",
       "      <td>7074501490</td>\n",
       "      <td>2017-08-03 19:58:10.777000000</td>\n",
       "      <td>182.0</td>\n",
       "      <td>85.0</td>\n",
       "      <td>Residential</td>\n",
       "      <td>7074501490_170567</td>\n",
       "    </tr>\n",
       "  </tbody>\n",
       "</table>\n",
       "</div>"
      ],
      "text/plain": [
       "  consumer_id  meter_serial_number               transaction_date  \\\n",
       "0      170567           7074501490  2017-06-05 19:50:57.083000000   \n",
       "1      170567           7074501490  2017-06-06 05:48:45.640000000   \n",
       "2      170567           7074501490  2017-07-04 10:48:34.670000000   \n",
       "3      170567           7074501490  2017-07-06 19:26:13.043000000   \n",
       "4      170567           7074501490  2017-08-03 19:58:10.777000000   \n",
       "\n",
       "   block_amount  amount  tariff_name meter_serial_number_consumer_id  \n",
       "0         182.0    85.0  Residential               7074501490_170567  \n",
       "1         182.0    85.0  Residential               7074501490_170567  \n",
       "2         182.0    85.0  Residential               7074501490_170567  \n",
       "3         182.0    85.0  Residential               7074501490_170567  \n",
       "4         182.0    85.0  Residential               7074501490_170567  "
      ]
     },
     "execution_count": 7,
     "metadata": {},
     "output_type": "execute_result"
    }
   ],
   "source": [
    "df_kWh.head()"
   ]
  },
  {
   "cell_type": "code",
   "execution_count": 8,
   "metadata": {},
   "outputs": [
    {
     "data": {
      "text/plain": [
       "0          1026227726_20130620 094056.655 0002012 7527\n",
       "1          1026227932_20140204 110413.710 0002015 0372\n",
       "2                                     1026227932_20170\n",
       "3          1026227973_20151030 134608.382 0002014 7932\n",
       "4          1026227981_20161115 160543.806 0002010 6964\n",
       "                              ...                     \n",
       "439012    94100295628_20181129 200025.249 0002025 3024\n",
       "439013    94100295636_20181122 090225.675 0002023 6291\n",
       "439014    94100295644_20181129 171228.670 0002025 5296\n",
       "439015    94100295651_20181113 145806.883 0002023 7285\n",
       "439016    94100929572_20181026 124105.807 0002013 9770\n",
       "Name: meter_serial_number_consumer_id, Length: 439017, dtype: object"
      ]
     },
     "execution_count": 8,
     "metadata": {},
     "output_type": "execute_result"
    }
   ],
   "source": [
    "import pickle\n",
    "# Load data (deserialize)\n",
    "with open('/mnt/nfs/work1/jtaneja/jmugyenyi/REG_consumption_data/low_high_customer_ids/low_consumption_indexes.pickle', 'rb') as handle:\n",
    "    unserialized_data = pickle.load(handle)\n",
    "unserialized_data"
   ]
  },
  {
   "cell_type": "code",
   "execution_count": 9,
   "metadata": {},
   "outputs": [],
   "source": [
    "low = unserialized_data.tolist()"
   ]
  },
  {
   "cell_type": "code",
   "execution_count": 10,
   "metadata": {},
   "outputs": [
    {
     "data": {
      "text/plain": [
       "439017"
      ]
     },
     "execution_count": 10,
     "metadata": {},
     "output_type": "execute_result"
    }
   ],
   "source": [
    "len(low)"
   ]
  },
  {
   "cell_type": "code",
   "execution_count": 11,
   "metadata": {},
   "outputs": [],
   "source": [
    "df_kWh_low = df_kWh[df_kWh.meter_serial_number_consumer_id.isin(low)]"
   ]
  },
  {
   "cell_type": "code",
   "execution_count": 12,
   "metadata": {},
   "outputs": [],
   "source": [
    "low_raw = df_kWh_low.meter_serial_number_consumer_id.unique().tolist()"
   ]
  },
  {
   "cell_type": "code",
   "execution_count": 13,
   "metadata": {},
   "outputs": [
    {
     "data": {
      "text/plain": [
       "439017"
      ]
     },
     "execution_count": 13,
     "metadata": {},
     "output_type": "execute_result"
    }
   ],
   "source": [
    "len(low_raw)"
   ]
  },
  {
   "cell_type": "code",
   "execution_count": 23,
   "metadata": {},
   "outputs": [],
   "source": [
    "df_kWh_low = df_kWh_low[['meter_serial_number_consumer_id','kWh_sold','transaction_date']]"
   ]
  },
  {
   "cell_type": "code",
   "execution_count": 24,
   "metadata": {},
   "outputs": [
    {
     "data": {
      "text/html": [
       "<div>\n",
       "<style scoped>\n",
       "    .dataframe tbody tr th:only-of-type {\n",
       "        vertical-align: middle;\n",
       "    }\n",
       "\n",
       "    .dataframe tbody tr th {\n",
       "        vertical-align: top;\n",
       "    }\n",
       "\n",
       "    .dataframe thead th {\n",
       "        text-align: right;\n",
       "    }\n",
       "</style>\n",
       "<table border=\"1\" class=\"dataframe\">\n",
       "  <thead>\n",
       "    <tr style=\"text-align: right;\">\n",
       "      <th></th>\n",
       "      <th>meter_serial_number_consumer_id</th>\n",
       "      <th>kWh_sold</th>\n",
       "      <th>transaction_date</th>\n",
       "    </tr>\n",
       "  </thead>\n",
       "  <tbody>\n",
       "    <tr>\n",
       "      <th>548</th>\n",
       "      <td>1311102881_20181030 154605.193 0002300 7628</td>\n",
       "      <td>2.5</td>\n",
       "      <td>2019-01-22 21:13:34.837000000</td>\n",
       "    </tr>\n",
       "    <tr>\n",
       "      <th>4409</th>\n",
       "      <td>1311103970_44432</td>\n",
       "      <td>2.3</td>\n",
       "      <td>2015-09-24 08:52:17.730000000</td>\n",
       "    </tr>\n",
       "    <tr>\n",
       "      <th>4410</th>\n",
       "      <td>1311103970_44432</td>\n",
       "      <td>9.3</td>\n",
       "      <td>2016-05-27 14:24:54.067000000</td>\n",
       "    </tr>\n",
       "    <tr>\n",
       "      <th>4414</th>\n",
       "      <td>1311103970_44432</td>\n",
       "      <td>6.3</td>\n",
       "      <td>2014-07-10 18:35:55.173000000</td>\n",
       "    </tr>\n",
       "    <tr>\n",
       "      <th>4415</th>\n",
       "      <td>1311103970_44432</td>\n",
       "      <td>1.9</td>\n",
       "      <td>2019-11-07 22:32:24.433000000</td>\n",
       "    </tr>\n",
       "    <tr>\n",
       "      <th>...</th>\n",
       "      <td>...</td>\n",
       "      <td>...</td>\n",
       "      <td>...</td>\n",
       "    </tr>\n",
       "    <tr>\n",
       "      <th>361023551</th>\n",
       "      <td>4182314353_80521</td>\n",
       "      <td>2.4</td>\n",
       "      <td>2018-01-10 19:12:42.177000000</td>\n",
       "    </tr>\n",
       "    <tr>\n",
       "      <th>361023552</th>\n",
       "      <td>4182314353_80521</td>\n",
       "      <td>2.1</td>\n",
       "      <td>2016-04-18 17:10:04.517000000</td>\n",
       "    </tr>\n",
       "    <tr>\n",
       "      <th>361023553</th>\n",
       "      <td>4182314353_80521</td>\n",
       "      <td>1.4</td>\n",
       "      <td>2017-07-17 17:47:01.510000000</td>\n",
       "    </tr>\n",
       "    <tr>\n",
       "      <th>361023554</th>\n",
       "      <td>4182314353_80521</td>\n",
       "      <td>1.9</td>\n",
       "      <td>2017-11-24 18:56:45.580000000</td>\n",
       "    </tr>\n",
       "    <tr>\n",
       "      <th>361023555</th>\n",
       "      <td>4182314353_80521</td>\n",
       "      <td>1.4</td>\n",
       "      <td>2018-04-17 10:05:07.810000000</td>\n",
       "    </tr>\n",
       "  </tbody>\n",
       "</table>\n",
       "<p>28198845 rows × 3 columns</p>\n",
       "</div>"
      ],
      "text/plain": [
       "                       meter_serial_number_consumer_id  kWh_sold  \\\n",
       "548        1311102881_20181030 154605.193 0002300 7628       2.5   \n",
       "4409                                  1311103970_44432       2.3   \n",
       "4410                                  1311103970_44432       9.3   \n",
       "4414                                  1311103970_44432       6.3   \n",
       "4415                                  1311103970_44432       1.9   \n",
       "...                                                ...       ...   \n",
       "361023551                             4182314353_80521       2.4   \n",
       "361023552                             4182314353_80521       2.1   \n",
       "361023553                             4182314353_80521       1.4   \n",
       "361023554                             4182314353_80521       1.9   \n",
       "361023555                             4182314353_80521       1.4   \n",
       "\n",
       "                        transaction_date  \n",
       "548        2019-01-22 21:13:34.837000000  \n",
       "4409       2015-09-24 08:52:17.730000000  \n",
       "4410       2016-05-27 14:24:54.067000000  \n",
       "4414       2014-07-10 18:35:55.173000000  \n",
       "4415       2019-11-07 22:32:24.433000000  \n",
       "...                                  ...  \n",
       "361023551  2018-01-10 19:12:42.177000000  \n",
       "361023552  2016-04-18 17:10:04.517000000  \n",
       "361023553  2017-07-17 17:47:01.510000000  \n",
       "361023554  2017-11-24 18:56:45.580000000  \n",
       "361023555  2018-04-17 10:05:07.810000000  \n",
       "\n",
       "[28198845 rows x 3 columns]"
      ]
     },
     "execution_count": 24,
     "metadata": {},
     "output_type": "execute_result"
    }
   ],
   "source": [
    "df_kWh_low"
   ]
  },
  {
   "cell_type": "code",
   "execution_count": 14,
   "metadata": {},
   "outputs": [],
   "source": [
    "df_amount_low = df_kWh_low[['meter_serial_number_consumer_id','amount','transaction_date']]"
   ]
  },
  {
   "cell_type": "code",
   "execution_count": 16,
   "metadata": {},
   "outputs": [
    {
     "data": {
      "text/html": [
       "<div>\n",
       "<style scoped>\n",
       "    .dataframe tbody tr th:only-of-type {\n",
       "        vertical-align: middle;\n",
       "    }\n",
       "\n",
       "    .dataframe tbody tr th {\n",
       "        vertical-align: top;\n",
       "    }\n",
       "\n",
       "    .dataframe thead th {\n",
       "        text-align: right;\n",
       "    }\n",
       "</style>\n",
       "<table border=\"1\" class=\"dataframe\">\n",
       "  <thead>\n",
       "    <tr style=\"text-align: right;\">\n",
       "      <th></th>\n",
       "      <th>meter_serial_number_consumer_id</th>\n",
       "      <th>amount</th>\n",
       "      <th>transaction_date</th>\n",
       "    </tr>\n",
       "  </thead>\n",
       "  <tbody>\n",
       "    <tr>\n",
       "      <th>100</th>\n",
       "      <td>7074494019_180930</td>\n",
       "      <td>847.000</td>\n",
       "      <td>2014-09-17 18:46:11.123000000</td>\n",
       "    </tr>\n",
       "    <tr>\n",
       "      <th>101</th>\n",
       "      <td>7074494019_180930</td>\n",
       "      <td>296.000</td>\n",
       "      <td>2017-09-29 18:15:30.820000000</td>\n",
       "    </tr>\n",
       "    <tr>\n",
       "      <th>102</th>\n",
       "      <td>7074494019_180930</td>\n",
       "      <td>424.000</td>\n",
       "      <td>2014-08-13 11:24:17.647000000</td>\n",
       "    </tr>\n",
       "    <tr>\n",
       "      <th>103</th>\n",
       "      <td>7074494019_180930</td>\n",
       "      <td>296.000</td>\n",
       "      <td>2016-07-30 18:36:10.307000000</td>\n",
       "    </tr>\n",
       "    <tr>\n",
       "      <th>104</th>\n",
       "      <td>7074494019_180930</td>\n",
       "      <td>381.000</td>\n",
       "      <td>2016-10-10 17:37:39.777000000</td>\n",
       "    </tr>\n",
       "    <tr>\n",
       "      <th>...</th>\n",
       "      <td>...</td>\n",
       "      <td>...</td>\n",
       "      <td>...</td>\n",
       "    </tr>\n",
       "    <tr>\n",
       "      <th>361029361</th>\n",
       "      <td>7100249908_20120531 102547.363 0002037 7093</td>\n",
       "      <td>253.000</td>\n",
       "      <td>2016-05-11 01:39:03.870000000</td>\n",
       "    </tr>\n",
       "    <tr>\n",
       "      <th>361029362</th>\n",
       "      <td>7100249908_20120531 102547.363 0002037 7093</td>\n",
       "      <td>338.000</td>\n",
       "      <td>2016-07-17 18:02:56.037000000</td>\n",
       "    </tr>\n",
       "    <tr>\n",
       "      <th>361029363</th>\n",
       "      <td>7100249908_20120531 102547.363 0002037 7093</td>\n",
       "      <td>1335.000</td>\n",
       "      <td>2018-01-06 11:06:00.313000000</td>\n",
       "    </tr>\n",
       "    <tr>\n",
       "      <th>361029364</th>\n",
       "      <td>7100249908_20120531 102547.363 0002037 7093</td>\n",
       "      <td>1695.000</td>\n",
       "      <td>2014-08-23 21:21:08.047000000</td>\n",
       "    </tr>\n",
       "    <tr>\n",
       "      <th>361029384</th>\n",
       "      <td>7100248785_20121207 075301.849 0002025 5826</td>\n",
       "      <td>105.615</td>\n",
       "      <td>2020-02-28 16:32:57.443000000</td>\n",
       "    </tr>\n",
       "  </tbody>\n",
       "</table>\n",
       "<p>28198845 rows × 3 columns</p>\n",
       "</div>"
      ],
      "text/plain": [
       "                       meter_serial_number_consumer_id    amount  \\\n",
       "100                                  7074494019_180930   847.000   \n",
       "101                                  7074494019_180930   296.000   \n",
       "102                                  7074494019_180930   424.000   \n",
       "103                                  7074494019_180930   296.000   \n",
       "104                                  7074494019_180930   381.000   \n",
       "...                                                ...       ...   \n",
       "361029361  7100249908_20120531 102547.363 0002037 7093   253.000   \n",
       "361029362  7100249908_20120531 102547.363 0002037 7093   338.000   \n",
       "361029363  7100249908_20120531 102547.363 0002037 7093  1335.000   \n",
       "361029364  7100249908_20120531 102547.363 0002037 7093  1695.000   \n",
       "361029384  7100248785_20121207 075301.849 0002025 5826   105.615   \n",
       "\n",
       "                        transaction_date  \n",
       "100        2014-09-17 18:46:11.123000000  \n",
       "101        2017-09-29 18:15:30.820000000  \n",
       "102        2014-08-13 11:24:17.647000000  \n",
       "103        2016-07-30 18:36:10.307000000  \n",
       "104        2016-10-10 17:37:39.777000000  \n",
       "...                                  ...  \n",
       "361029361  2016-05-11 01:39:03.870000000  \n",
       "361029362  2016-07-17 18:02:56.037000000  \n",
       "361029363  2018-01-06 11:06:00.313000000  \n",
       "361029364  2014-08-23 21:21:08.047000000  \n",
       "361029384  2020-02-28 16:32:57.443000000  \n",
       "\n",
       "[28198845 rows x 3 columns]"
      ]
     },
     "execution_count": 16,
     "metadata": {},
     "output_type": "execute_result"
    }
   ],
   "source": [
    "df_amount_low"
   ]
  },
  {
   "cell_type": "code",
   "execution_count": 17,
   "metadata": {},
   "outputs": [],
   "source": [
    "df_amount_low.to_pickle('/mnt/nfs/work1/jtaneja/jmugyenyi/REG_consumption_data/low_high_customer_ids/low_consumers_amount_raw.pck'\n",
    "                    )"
   ]
  },
  {
   "cell_type": "markdown",
   "metadata": {},
   "source": [
    "## Secondary analysis"
   ]
  },
  {
   "cell_type": "code",
   "execution_count": 3,
   "metadata": {},
   "outputs": [
    {
     "name": "stdout",
     "output_type": "stream",
     "text": [
      "CPU times: user 18.6 s, sys: 13.5 s, total: 32.1 s\n",
      "Wall time: 33.2 s\n"
     ]
    }
   ],
   "source": [
    "%%time\n",
    "path_dir = '/mnt/nfs/work1/jtaneja/jmugyenyi/REG_consumption_data/low_high_customer_ids/'\n",
    "df_kWh_high = pd.read_pickle(path_dir+'high_consumers_kWh_raw.pck')\n",
    "df_amount_high = pd.read_pickle(path_dir+'high_consumers_amount_raw.pck')\n",
    "# df_kWh_low = pd.read_pickle(path_dir+'low_consumers_kWh_raw.pck')\n",
    "# df_amount_low = pd.read_pickle(path_dir+'low_consumers_amount_raw.pck')"
   ]
  },
  {
   "cell_type": "code",
   "execution_count": 8,
   "metadata": {},
   "outputs": [],
   "source": [
    "meta_df = pd.read_pickle('/mnt/nfs/work1/jtaneja/jmugyenyi/REG_consumption_data/metadata_folder/REG_metadata_March_3_2021.pck')"
   ]
  },
  {
   "cell_type": "code",
   "execution_count": 10,
   "metadata": {},
   "outputs": [],
   "source": [
    "meta_df['meter_serial_number_consumer_id'] = meta_df['meter_serial_number'].astype(str) +'_'+ meta_df['consumer_id'].astype(str)"
   ]
  },
  {
   "cell_type": "code",
   "execution_count": 12,
   "metadata": {},
   "outputs": [],
   "source": [
    "meta_df = meta_df[['meter_serial_number_consumer_id','installation_date']]"
   ]
  },
  {
   "cell_type": "code",
   "execution_count": 13,
   "metadata": {},
   "outputs": [
    {
     "data": {
      "text/html": [
       "<div>\n",
       "<style scoped>\n",
       "    .dataframe tbody tr th:only-of-type {\n",
       "        vertical-align: middle;\n",
       "    }\n",
       "\n",
       "    .dataframe tbody tr th {\n",
       "        vertical-align: top;\n",
       "    }\n",
       "\n",
       "    .dataframe thead th {\n",
       "        text-align: right;\n",
       "    }\n",
       "</style>\n",
       "<table border=\"1\" class=\"dataframe\">\n",
       "  <thead>\n",
       "    <tr style=\"text-align: right;\">\n",
       "      <th></th>\n",
       "      <th>meter_serial_number_consumer_id</th>\n",
       "      <th>installation_date</th>\n",
       "    </tr>\n",
       "  </thead>\n",
       "  <tbody>\n",
       "    <tr>\n",
       "      <th>0</th>\n",
       "      <td>1805931_10</td>\n",
       "      <td>1996-02-15 12:49:26</td>\n",
       "    </tr>\n",
       "    <tr>\n",
       "      <th>1</th>\n",
       "      <td>7099738945_10</td>\n",
       "      <td>1996-02-15 12:49:26</td>\n",
       "    </tr>\n",
       "    <tr>\n",
       "      <th>2</th>\n",
       "      <td>4167724006_100</td>\n",
       "      <td>2006-07-28 12:50:06</td>\n",
       "    </tr>\n",
       "    <tr>\n",
       "      <th>3</th>\n",
       "      <td>1805903_1000</td>\n",
       "      <td>1997-07-11 12:56:44</td>\n",
       "    </tr>\n",
       "    <tr>\n",
       "      <th>4</th>\n",
       "      <td>7099841954_1000</td>\n",
       "      <td>1997-07-11 12:56:44</td>\n",
       "    </tr>\n",
       "    <tr>\n",
       "      <th>...</th>\n",
       "      <td>...</td>\n",
       "      <td>...</td>\n",
       "    </tr>\n",
       "    <tr>\n",
       "      <th>811536</th>\n",
       "      <td>4185408475_99998</td>\n",
       "      <td>2009-04-21 08:28:12</td>\n",
       "    </tr>\n",
       "    <tr>\n",
       "      <th>811537</th>\n",
       "      <td>4226717199_99998</td>\n",
       "      <td>2009-04-21 08:28:12</td>\n",
       "    </tr>\n",
       "    <tr>\n",
       "      <th>811538</th>\n",
       "      <td>7100343958_99998</td>\n",
       "      <td>2009-04-21 08:28:13</td>\n",
       "    </tr>\n",
       "    <tr>\n",
       "      <th>811539</th>\n",
       "      <td>4185407121_99999</td>\n",
       "      <td>2009-04-21 08:32:46</td>\n",
       "    </tr>\n",
       "    <tr>\n",
       "      <th>811540</th>\n",
       "      <td>7081390531_99999</td>\n",
       "      <td>2009-04-21 08:32:47</td>\n",
       "    </tr>\n",
       "  </tbody>\n",
       "</table>\n",
       "<p>811541 rows × 2 columns</p>\n",
       "</div>"
      ],
      "text/plain": [
       "       meter_serial_number_consumer_id   installation_date\n",
       "0                           1805931_10 1996-02-15 12:49:26\n",
       "1                        7099738945_10 1996-02-15 12:49:26\n",
       "2                       4167724006_100 2006-07-28 12:50:06\n",
       "3                         1805903_1000 1997-07-11 12:56:44\n",
       "4                      7099841954_1000 1997-07-11 12:56:44\n",
       "...                                ...                 ...\n",
       "811536                4185408475_99998 2009-04-21 08:28:12\n",
       "811537                4226717199_99998 2009-04-21 08:28:12\n",
       "811538                7100343958_99998 2009-04-21 08:28:13\n",
       "811539                4185407121_99999 2009-04-21 08:32:46\n",
       "811540                7081390531_99999 2009-04-21 08:32:47\n",
       "\n",
       "[811541 rows x 2 columns]"
      ]
     },
     "execution_count": 13,
     "metadata": {},
     "output_type": "execute_result"
    }
   ],
   "source": [
    "meta_df"
   ]
  },
  {
   "cell_type": "code",
   "execution_count": 4,
   "metadata": {},
   "outputs": [
    {
     "name": "stdout",
     "output_type": "stream",
     "text": [
      "CPU times: user 1min 52s, sys: 21 s, total: 2min 13s\n",
      "Wall time: 2min 13s\n"
     ]
    }
   ],
   "source": [
    "%%time\n",
    "df_high = pd.merge(df_kWh_high,df_amount_high,\n",
    "                  on=['meter_serial_number_consumer_id','transaction_date'],how='inner')\n",
    "del df_kWh_high, df_amount_high"
   ]
  },
  {
   "cell_type": "code",
   "execution_count": 15,
   "metadata": {},
   "outputs": [
    {
     "data": {
      "text/plain": [
       "82078"
      ]
     },
     "execution_count": 15,
     "metadata": {},
     "output_type": "execute_result"
    }
   ],
   "source": [
    "df_high.meter_serial_number_consumer_id.nunique()"
   ]
  },
  {
   "cell_type": "code",
   "execution_count": 24,
   "metadata": {},
   "outputs": [],
   "source": [
    "df_high_install.to_pickle('/mnt/nfs/work1/jtaneja/jmugyenyi/REG_consumption_data/low_high_customer_ids/high_consumers_amount_kWhs_install_raw.pck'\n",
    "                    )"
   ]
  },
  {
   "cell_type": "code",
   "execution_count": 16,
   "metadata": {},
   "outputs": [
    {
     "name": "stdout",
     "output_type": "stream",
     "text": [
      "CPU times: user 13.1 s, sys: 6.01 s, total: 19.2 s\n",
      "Wall time: 19.1 s\n"
     ]
    }
   ],
   "source": [
    "%%time\n",
    "df_high_install = pd.merge(df_high,meta_df,\n",
    "                  on=['meter_serial_number_consumer_id',],how='inner')"
   ]
  },
  {
   "cell_type": "code",
   "execution_count": 19,
   "metadata": {},
   "outputs": [
    {
     "data": {
      "text/html": [
       "<div>\n",
       "<style scoped>\n",
       "    .dataframe tbody tr th:only-of-type {\n",
       "        vertical-align: middle;\n",
       "    }\n",
       "\n",
       "    .dataframe tbody tr th {\n",
       "        vertical-align: top;\n",
       "    }\n",
       "\n",
       "    .dataframe thead th {\n",
       "        text-align: right;\n",
       "    }\n",
       "</style>\n",
       "<table border=\"1\" class=\"dataframe\">\n",
       "  <thead>\n",
       "    <tr style=\"text-align: right;\">\n",
       "      <th></th>\n",
       "      <th>meter_serial_number_consumer_id</th>\n",
       "      <th>kWh_sold</th>\n",
       "      <th>transaction_date</th>\n",
       "      <th>amount</th>\n",
       "      <th>installation_date</th>\n",
       "    </tr>\n",
       "  </thead>\n",
       "  <tbody>\n",
       "    <tr>\n",
       "      <th>0</th>\n",
       "      <td>1311103467_43239</td>\n",
       "      <td>12.6</td>\n",
       "      <td>2014-06-28 22:15:54.630000000</td>\n",
       "      <td>1695.000</td>\n",
       "      <td>2006-07-20 18:05:48</td>\n",
       "    </tr>\n",
       "    <tr>\n",
       "      <th>1</th>\n",
       "      <td>1311103467_43239</td>\n",
       "      <td>12.6</td>\n",
       "      <td>2014-07-05 12:31:28.330000000</td>\n",
       "      <td>1695.000</td>\n",
       "      <td>2006-07-20 18:05:48</td>\n",
       "    </tr>\n",
       "    <tr>\n",
       "      <th>2</th>\n",
       "      <td>1311103467_43239</td>\n",
       "      <td>6.3</td>\n",
       "      <td>2015-01-11 10:51:12.577000000</td>\n",
       "      <td>847.000</td>\n",
       "      <td>2006-07-20 18:05:48</td>\n",
       "    </tr>\n",
       "    <tr>\n",
       "      <th>3</th>\n",
       "      <td>1311103467_43239</td>\n",
       "      <td>19.0</td>\n",
       "      <td>2015-07-27 20:44:09.003000000</td>\n",
       "      <td>2542.000</td>\n",
       "      <td>2006-07-20 18:05:48</td>\n",
       "    </tr>\n",
       "    <tr>\n",
       "      <th>4</th>\n",
       "      <td>1311103467_43239</td>\n",
       "      <td>14.2</td>\n",
       "      <td>2019-03-02 11:44:23.227000000</td>\n",
       "      <td>1267.384</td>\n",
       "      <td>2006-07-20 18:05:48</td>\n",
       "    </tr>\n",
       "  </tbody>\n",
       "</table>\n",
       "</div>"
      ],
      "text/plain": [
       "  meter_serial_number_consumer_id  kWh_sold               transaction_date  \\\n",
       "0                1311103467_43239      12.6  2014-06-28 22:15:54.630000000   \n",
       "1                1311103467_43239      12.6  2014-07-05 12:31:28.330000000   \n",
       "2                1311103467_43239       6.3  2015-01-11 10:51:12.577000000   \n",
       "3                1311103467_43239      19.0  2015-07-27 20:44:09.003000000   \n",
       "4                1311103467_43239      14.2  2019-03-02 11:44:23.227000000   \n",
       "\n",
       "     amount   installation_date  \n",
       "0  1695.000 2006-07-20 18:05:48  \n",
       "1  1695.000 2006-07-20 18:05:48  \n",
       "2   847.000 2006-07-20 18:05:48  \n",
       "3  2542.000 2006-07-20 18:05:48  \n",
       "4  1267.384 2006-07-20 18:05:48  "
      ]
     },
     "execution_count": 19,
     "metadata": {},
     "output_type": "execute_result"
    }
   ],
   "source": [
    "df_high_install.head()"
   ]
  },
  {
   "cell_type": "code",
   "execution_count": 20,
   "metadata": {},
   "outputs": [],
   "source": [
    "df_high_install['installation_year'] = df_high_install.installation_date.dt.year"
   ]
  },
  {
   "cell_type": "code",
   "execution_count": 23,
   "metadata": {},
   "outputs": [],
   "source": [
    "df_high_install = df_high_install[['meter_serial_number_consumer_id','transaction_date','kWh_sold','amount','installation_year']]"
   ]
  },
  {
   "cell_type": "code",
   "execution_count": null,
   "metadata": {},
   "outputs": [],
   "source": []
  }
 ],
 "metadata": {
  "kernelspec": {
   "display_name": "Python 3",
   "language": "python",
   "name": "python3"
  },
  "language_info": {
   "codemirror_mode": {
    "name": "ipython",
    "version": 3
   },
   "file_extension": ".py",
   "mimetype": "text/x-python",
   "name": "python",
   "nbconvert_exporter": "python",
   "pygments_lexer": "ipython3",
   "version": "3.7.4"
  }
 },
 "nbformat": 4,
 "nbformat_minor": 4
}
